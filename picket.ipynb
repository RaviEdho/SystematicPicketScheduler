{
 "cells": [
  {
   "cell_type": "code",
   "execution_count": 29,
   "metadata": {},
   "outputs": [],
   "source": [
    "from cmath import e\n",
    "from operator import concat\n",
    "import random"
   ]
  },
  {
   "cell_type": "code",
   "execution_count": 30,
   "metadata": {},
   "outputs": [],
   "source": [
    "l = [\"L1\", \"L2\", \"L3\", \"L4\", \"L5\", \"L6\", \"L7\", \"L8\", \"L9\"]\n",
    "p = [\"P1\", \"P2\", \"P3\", \"P4\", \"P5\", \"P6\", \"P7\", \"P8\", \"P9\", \"P10\", \"P11\", \"P12\", \"P13\"]\n",
    "days = 25\n"
   ]
  },
  {
   "cell_type": "code",
   "execution_count": 31,
   "metadata": {},
   "outputs": [],
   "source": [
    "qL = list(range(len(l)))\n",
    "qP = list(range(len(p)))\n",
    "random.shuffle(qL)\n",
    "random.shuffle(qP)"
   ]
  },
  {
   "cell_type": "code",
   "execution_count": 32,
   "metadata": {},
   "outputs": [],
   "source": [
    "schedule = []\n",
    "recentL = []\n",
    "recentP = []"
   ]
  },
  {
   "cell_type": "code",
   "execution_count": 33,
   "metadata": {},
   "outputs": [
    {
     "name": "stdout",
     "output_type": "stream",
     "text": [
      "Hari 1: ['L4', 'L2', 'P1', 'P6', 'P8']\n",
      "Hari 2: ['L8', 'L1', 'P4', 'P13', 'P10']\n",
      "Hari 3: ['L6', 'L3', 'P12', 'P1', 'P6']\n",
      "Hari 4: ['L9', 'L5', 'P2', 'P5', 'P11']\n",
      "Hari 5: ['L2', 'L4', 'P10', 'P13', 'P8']\n",
      "Hari 6: ['L6', 'L7', 'P4', 'P7', 'P2']\n",
      "Hari 7: ['L5', 'L3', 'P6', 'P1', 'P3']\n",
      "Hari 8: ['L4', 'L2', 'P5', 'P13', 'P8']\n",
      "Hari 9: ['L6', 'L9', 'P7', 'P6', 'P2']\n",
      "Hari 10: ['L7', 'L8', 'P10', 'P1', 'P5']\n",
      "Hari 11: ['L3', 'L5', 'P12', 'P11', 'P6']\n",
      "Hari 12: ['L2', 'L1', 'P9', 'P8', 'P10']\n",
      "Hari 13: ['L7', 'L4', 'P1', 'P4', 'P7']\n",
      "Hari 14: ['L5', 'L9', 'P6', 'P2', 'P13']\n",
      "Hari 15: ['L8', 'L6', 'P11', 'P12', 'P4']\n",
      "Hari 16: ['L2', 'L5', 'P7', 'P9', 'P6']\n",
      "Hari 17: ['L4', 'L1', 'P3', 'P1', 'P11']\n",
      "Hari 18: ['L3', 'L8', 'P4', 'P5', 'P9']\n",
      "Hari 19: ['L6', 'L4', 'P8', 'P13', 'P10']\n",
      "Hari 20: ['L2', 'L7', 'P11', 'P1', 'P7']\n",
      "Hari 21: ['L8', 'L3', 'P9', 'P4', 'P6']\n",
      "Hari 22: ['L6', 'L1', 'P2', 'P13', 'P5']\n",
      "Hari 23: ['L9', 'L5', 'P10', 'P1', 'P3']\n",
      "Hari 24: ['L8', 'L3', 'P7', 'P8', 'P9']\n",
      "Hari 25: ['L2', 'L7', 'P6', 'P10', 'P4']\n"
     ]
    }
   ],
   "source": [
    "for i in range(days):\n",
    "    today = []\n",
    "\n",
    "    for j in range(2):\n",
    "        random.shuffle(qL)\n",
    "        if i > 1:\n",
    "            qL.append(recentL[0])\n",
    "            recentL.pop(0)\n",
    "        today.append(l[qL[0]])\n",
    "        recentL.append(qL[0])\n",
    "        qL.pop(0)\n",
    "\n",
    "    for k in range(3):\n",
    "        random.shuffle(qP)\n",
    "        if i > 1:\n",
    "            qP.append(recentP[0])\n",
    "            recentP.pop(0)\n",
    "        today.append(p[qP[0]])\n",
    "        recentP.append(qP[0])\n",
    "        qP.pop(0)\n",
    "    \n",
    "    schedule.append(today)\n",
    "    print(\"Hari {}: {}\".format(i+1, today))"
   ]
  },
  {
   "cell_type": "code",
   "execution_count": 34,
   "metadata": {},
   "outputs": [
    {
     "name": "stdout",
     "output_type": "stream",
     "text": [
      "L1: 4\n",
      "L2: 7\n",
      "L3: 6\n",
      "L4: 6\n",
      "L5: 6\n",
      "L6: 6\n",
      "L7: 5\n",
      "L8: 6\n",
      "L9: 4\n"
     ]
    }
   ],
   "source": [
    "for i in range(len(l)):\n",
    "    jumlah = 0\n",
    "    for j in range(len(schedule)):\n",
    "        jumlah = jumlah + schedule[j].count(l[i])\n",
    "    print(\"{}: {}\".format(l[i], jumlah))"
   ]
  },
  {
   "cell_type": "code",
   "execution_count": 35,
   "metadata": {},
   "outputs": [
    {
     "name": "stdout",
     "output_type": "stream",
     "text": [
      "P1: 8\n",
      "P2: 5\n",
      "P3: 3\n",
      "P4: 7\n",
      "P5: 5\n",
      "P6: 9\n",
      "P7: 6\n",
      "P8: 6\n",
      "P9: 5\n",
      "P10: 7\n",
      "P11: 5\n",
      "P12: 3\n",
      "P13: 6\n"
     ]
    }
   ],
   "source": [
    "for i in range(len(p)):\n",
    "    jumlah = 0\n",
    "    for j in range(len(schedule)):\n",
    "        jumlah = jumlah + schedule[j].count(p[i])\n",
    "    print(\"{}: {}\".format(p[i], jumlah))"
   ]
  }
 ],
 "metadata": {
  "kernelspec": {
   "display_name": "Python 3.10.0 64-bit",
   "language": "python",
   "name": "python3"
  },
  "language_info": {
   "codemirror_mode": {
    "name": "ipython",
    "version": 3
   },
   "file_extension": ".py",
   "mimetype": "text/x-python",
   "name": "python",
   "nbconvert_exporter": "python",
   "pygments_lexer": "ipython3",
   "version": "3.10.0"
  },
  "orig_nbformat": 4,
  "vscode": {
   "interpreter": {
    "hash": "76b43aca13dcc11405336e999e0640ecf362d2fa6c67942a319c723d10fba26b"
   }
  }
 },
 "nbformat": 4,
 "nbformat_minor": 2
}
