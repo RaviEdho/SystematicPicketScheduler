{
 "cells": [
  {
   "cell_type": "code",
   "execution_count": null,
   "metadata": {},
   "outputs": [],
   "source": [
    "import random"
   ]
  },
  {
   "cell_type": "code",
   "execution_count": null,
   "metadata": {},
   "outputs": [],
   "source": [
    "# Members\n",
    "m = [\"L1\", \"L2\", \"L3\", \"L4\", \"L5\", \"L6\", \"L7\", \"L8\", \"L9\"]\n",
    "f = [\"P1\", \"P2\", \"P3\", \"P4\", \"P5\", \"P6\", \"P7\", \"P8\", \"P9\", \"P10\", \"P11\", \"P12\", \"P13\"]\n",
    "\n",
    "# Parameters\n",
    "days = 25\n",
    "malePerDay = 2\n",
    "femalePerDay = 3\n",
    "recentDelay = 2"
   ]
  },
  {
   "cell_type": "code",
   "execution_count": null,
   "metadata": {},
   "outputs": [],
   "source": [
    "queueM = list(range(len(m)))\n",
    "queueF = list(range(len(f)))\n",
    "random.shuffle(queueM)\n",
    "random.shuffle(queueF)"
   ]
  },
  {
   "cell_type": "code",
   "execution_count": null,
   "metadata": {},
   "outputs": [],
   "source": [
    "schedule = []\n",
    "recentM = []\n",
    "recentF = []"
   ]
  },
  {
   "cell_type": "code",
   "execution_count": null,
   "metadata": {},
   "outputs": [],
   "source": [
    "for i in range(days):\n",
    "    today = []\n",
    "\n",
    "    # Remove person that are longer than the delay from recent list\n",
    "    while len(recentM) > malePerDay * recentDelay:\n",
    "        recentM.pop(0)\n",
    "    while len(recentF) > femalePerDay * recentDelay:\n",
    "        recentF.pop(0)\n",
    "\n",
    "\n",
    "    for j in range(malePerDay):\n",
    "\n",
    "        # Refills the queue if it's empty\n",
    "        if len(queueM) == 0:\n",
    "            queueM = list(range(len(m)))\n",
    "\n",
    "        random.shuffle(queueM)\n",
    "\n",
    "        # Prevents person that were recently added to be picked again\n",
    "        while (queueM[0] in recentM):\n",
    "            queueM.append(queueM[0])\n",
    "            queueM.pop(0)\n",
    "\n",
    "        today.append(m[queueM[0]])\n",
    "        recentM.append(queueM[0])\n",
    "        queueM.pop(0)\n",
    "\n",
    "\n",
    "    for k in range(femalePerDay):\n",
    "\n",
    "        if len(queueF) == 0:\n",
    "            queueF = list(range(len(f)))\n",
    "\n",
    "        random.shuffle(queueF)\n",
    "\n",
    "        while (queueF[0] in recentF):\n",
    "            queueF.append(queueF[0])\n",
    "            queueF.pop(0)\n",
    "\n",
    "        today.append(f[queueF[0]])\n",
    "        recentF.append(queueF[0])\n",
    "        queueF.pop(0)\n",
    "    \n",
    "    schedule.append(today)\n",
    "    print(f\"Day {i+1}: {today}\")"
   ]
  },
  {
   "cell_type": "code",
   "execution_count": null,
   "metadata": {},
   "outputs": [],
   "source": [
    "for i in range(len(m)):\n",
    "    count = 0\n",
    "    for j in range(len(schedule)):\n",
    "        count = count + schedule[j].count(m[i])\n",
    "    print(f\"{m[i]}: {count}\")"
   ]
  },
  {
   "cell_type": "code",
   "execution_count": null,
   "metadata": {},
   "outputs": [],
   "source": [
    "for i in range(len(f)):\n",
    "    count = 0\n",
    "    for j in range(len(schedule)):\n",
    "        count = count + schedule[j].count(f[i])\n",
    "    print(f\"{f[i]}: {count}\")"
   ]
  }
 ],
 "metadata": {
  "kernelspec": {
   "display_name": "Python 3.10.0 64-bit",
   "language": "python",
   "name": "python3"
  },
  "language_info": {
   "codemirror_mode": {
    "name": "ipython",
    "version": 3
   },
   "file_extension": ".py",
   "mimetype": "text/x-python",
   "name": "python",
   "nbconvert_exporter": "python",
   "pygments_lexer": "ipython3",
   "version": "3.10.0"
  },
  "orig_nbformat": 4,
  "vscode": {
   "interpreter": {
    "hash": "76b43aca13dcc11405336e999e0640ecf362d2fa6c67942a319c723d10fba26b"
   }
  }
 },
 "nbformat": 4,
 "nbformat_minor": 2
}
